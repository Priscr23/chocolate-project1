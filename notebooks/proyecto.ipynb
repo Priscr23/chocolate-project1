{
 "cells": [
  {
   "cell_type": "code",
   "execution_count": 15,
   "metadata": {},
   "outputs": [],
   "source": [
    "import pandas as pd\n",
    "import re"
   ]
  },
  {
   "cell_type": "code",
   "execution_count": 2,
   "metadata": {},
   "outputs": [],
   "source": [
    "df = pd.read_csv('C:/Users\\prisc/apps/data-analytics-course/data/raw/proyecto chocolate/flavors_of_cacao.csv',\n",
    "                 encoding=\"UTF8\"\n",
    "                 )"
   ]
  },
  {
   "cell_type": "code",
   "execution_count": 3,
   "metadata": {},
   "outputs": [
    {
     "data": {
      "text/html": [
       "<div>\n",
       "<style scoped>\n",
       "    .dataframe tbody tr th:only-of-type {\n",
       "        vertical-align: middle;\n",
       "    }\n",
       "\n",
       "    .dataframe tbody tr th {\n",
       "        vertical-align: top;\n",
       "    }\n",
       "\n",
       "    .dataframe thead th {\n",
       "        text-align: right;\n",
       "    }\n",
       "</style>\n",
       "<table border=\"1\" class=\"dataframe\">\n",
       "  <thead>\n",
       "    <tr style=\"text-align: right;\">\n",
       "      <th></th>\n",
       "      <th>Company</th>\n",
       "      <th>Specific region of origin of bean</th>\n",
       "      <th>REF</th>\n",
       "      <th>Review date</th>\n",
       "      <th>Cocoa %</th>\n",
       "      <th>Company location</th>\n",
       "      <th>Rating</th>\n",
       "      <th>Bean type</th>\n",
       "      <th>Broad region of origin of bean</th>\n",
       "    </tr>\n",
       "  </thead>\n",
       "  <tbody>\n",
       "    <tr>\n",
       "      <th>0</th>\n",
       "      <td>A. Morin</td>\n",
       "      <td>Agua Grande</td>\n",
       "      <td>1876</td>\n",
       "      <td>2016</td>\n",
       "      <td>63%</td>\n",
       "      <td>France</td>\n",
       "      <td>3.75</td>\n",
       "      <td></td>\n",
       "      <td>Sao Tome</td>\n",
       "    </tr>\n",
       "    <tr>\n",
       "      <th>1</th>\n",
       "      <td>A. Morin</td>\n",
       "      <td>Kpime</td>\n",
       "      <td>1676</td>\n",
       "      <td>2015</td>\n",
       "      <td>70%</td>\n",
       "      <td>France</td>\n",
       "      <td>2.75</td>\n",
       "      <td></td>\n",
       "      <td>Togo</td>\n",
       "    </tr>\n",
       "    <tr>\n",
       "      <th>2</th>\n",
       "      <td>A. Morin</td>\n",
       "      <td>Atsane</td>\n",
       "      <td>1676</td>\n",
       "      <td>2015</td>\n",
       "      <td>70%</td>\n",
       "      <td>France</td>\n",
       "      <td>3.00</td>\n",
       "      <td></td>\n",
       "      <td>Togo</td>\n",
       "    </tr>\n",
       "    <tr>\n",
       "      <th>3</th>\n",
       "      <td>A. Morin</td>\n",
       "      <td>Akata</td>\n",
       "      <td>1680</td>\n",
       "      <td>2015</td>\n",
       "      <td>70%</td>\n",
       "      <td>France</td>\n",
       "      <td>3.50</td>\n",
       "      <td></td>\n",
       "      <td>Togo</td>\n",
       "    </tr>\n",
       "    <tr>\n",
       "      <th>4</th>\n",
       "      <td>A. Morin</td>\n",
       "      <td>Quilla</td>\n",
       "      <td>1704</td>\n",
       "      <td>2015</td>\n",
       "      <td>70%</td>\n",
       "      <td>France</td>\n",
       "      <td>3.50</td>\n",
       "      <td></td>\n",
       "      <td>Peru</td>\n",
       "    </tr>\n",
       "    <tr>\n",
       "      <th>...</th>\n",
       "      <td>...</td>\n",
       "      <td>...</td>\n",
       "      <td>...</td>\n",
       "      <td>...</td>\n",
       "      <td>...</td>\n",
       "      <td>...</td>\n",
       "      <td>...</td>\n",
       "      <td>...</td>\n",
       "      <td>...</td>\n",
       "    </tr>\n",
       "    <tr>\n",
       "      <th>1790</th>\n",
       "      <td>Zotter</td>\n",
       "      <td>Peru</td>\n",
       "      <td>647</td>\n",
       "      <td>2011</td>\n",
       "      <td>70%</td>\n",
       "      <td>Austria</td>\n",
       "      <td>3.75</td>\n",
       "      <td></td>\n",
       "      <td>Peru</td>\n",
       "    </tr>\n",
       "    <tr>\n",
       "      <th>1791</th>\n",
       "      <td>Zotter</td>\n",
       "      <td>Congo</td>\n",
       "      <td>749</td>\n",
       "      <td>2011</td>\n",
       "      <td>65%</td>\n",
       "      <td>Austria</td>\n",
       "      <td>3.00</td>\n",
       "      <td>Forastero</td>\n",
       "      <td>Congo</td>\n",
       "    </tr>\n",
       "    <tr>\n",
       "      <th>1792</th>\n",
       "      <td>Zotter</td>\n",
       "      <td>Kerala State</td>\n",
       "      <td>749</td>\n",
       "      <td>2011</td>\n",
       "      <td>65%</td>\n",
       "      <td>Austria</td>\n",
       "      <td>3.50</td>\n",
       "      <td>Forastero</td>\n",
       "      <td>India</td>\n",
       "    </tr>\n",
       "    <tr>\n",
       "      <th>1793</th>\n",
       "      <td>Zotter</td>\n",
       "      <td>Kerala State</td>\n",
       "      <td>781</td>\n",
       "      <td>2011</td>\n",
       "      <td>62%</td>\n",
       "      <td>Austria</td>\n",
       "      <td>3.25</td>\n",
       "      <td></td>\n",
       "      <td>India</td>\n",
       "    </tr>\n",
       "    <tr>\n",
       "      <th>1794</th>\n",
       "      <td>Zotter</td>\n",
       "      <td>Brazil, Mitzi Blue</td>\n",
       "      <td>486</td>\n",
       "      <td>2010</td>\n",
       "      <td>65%</td>\n",
       "      <td>Austria</td>\n",
       "      <td>3.00</td>\n",
       "      <td></td>\n",
       "      <td>Brazil</td>\n",
       "    </tr>\n",
       "  </tbody>\n",
       "</table>\n",
       "<p>1795 rows × 9 columns</p>\n",
       "</div>"
      ],
      "text/plain": [
       "       Company Specific region of origin of bean   REF  Review date Cocoa %  \\\n",
       "0     A. Morin                       Agua Grande  1876         2016     63%   \n",
       "1     A. Morin                             Kpime  1676         2015     70%   \n",
       "2     A. Morin                            Atsane  1676         2015     70%   \n",
       "3     A. Morin                             Akata  1680         2015     70%   \n",
       "4     A. Morin                            Quilla  1704         2015     70%   \n",
       "...        ...                               ...   ...          ...     ...   \n",
       "1790    Zotter                              Peru   647         2011     70%   \n",
       "1791    Zotter                             Congo   749         2011     65%   \n",
       "1792    Zotter                      Kerala State   749         2011     65%   \n",
       "1793    Zotter                      Kerala State   781         2011     62%   \n",
       "1794    Zotter                Brazil, Mitzi Blue   486         2010     65%   \n",
       "\n",
       "     Company location  Rating  Bean type Broad region of origin of bean  \n",
       "0              France    3.75                                  Sao Tome  \n",
       "1              France    2.75                                      Togo  \n",
       "2              France    3.00                                      Togo  \n",
       "3              France    3.50                                      Togo  \n",
       "4              France    3.50                                      Peru  \n",
       "...               ...     ...        ...                            ...  \n",
       "1790          Austria    3.75                                      Peru  \n",
       "1791          Austria    3.00  Forastero                          Congo  \n",
       "1792          Austria    3.50  Forastero                          India  \n",
       "1793          Austria    3.25                                     India  \n",
       "1794          Austria    3.00                                    Brazil  \n",
       "\n",
       "[1795 rows x 9 columns]"
      ]
     },
     "execution_count": 3,
     "metadata": {},
     "output_type": "execute_result"
    }
   ],
   "source": [
    "df.columns = [\"Company\", \"Specific region of origin of bean\", \"REF\", \"Review date\", \"Cocoa %\",\"Company location\", \"Rating\", \"Bean type\", \"Broad region of origin of bean\"]\n",
    "df"
   ]
  },
  {
   "cell_type": "code",
   "execution_count": 4,
   "metadata": {},
   "outputs": [
    {
     "data": {
      "text/plain": [
       "0                \n",
       "1                \n",
       "2                \n",
       "3                \n",
       "4                \n",
       "          ...    \n",
       "1790             \n",
       "1791    Forastero\n",
       "1792    Forastero\n",
       "1793             \n",
       "1794             \n",
       "Name: Bean type, Length: 1795, dtype: object"
      ]
     },
     "execution_count": 4,
     "metadata": {},
     "output_type": "execute_result"
    }
   ],
   "source": [
    "df['Bean type']"
   ]
  },
  {
   "cell_type": "code",
   "execution_count": 5,
   "metadata": {},
   "outputs": [
    {
     "name": "stdout",
     "output_type": "stream",
     "text": [
      "Valores faltantes por columna:\n",
      "Company                              0\n",
      "Specific region of origin of bean    0\n",
      "REF                                  0\n",
      "Review date                          0\n",
      "Cocoa %                              0\n",
      "Company location                     0\n",
      "Rating                               0\n",
      "Bean type                            1\n",
      "Broad region of origin of bean       1\n",
      "dtype: int64\n"
     ]
    }
   ],
   "source": [
    "valores_faltantes = df.isnull().sum()\n",
    "\n",
    "# Mostrar los valores faltantes por columna\n",
    "print(\"Valores faltantes por columna:\")\n",
    "print(valores_faltantes)"
   ]
  },
  {
   "cell_type": "code",
   "execution_count": 7,
   "metadata": {},
   "outputs": [
    {
     "name": "stdout",
     "output_type": "stream",
     "text": [
      "<class 'pandas.core.frame.DataFrame'>\n",
      "RangeIndex: 1795 entries, 0 to 1794\n",
      "Data columns (total 9 columns):\n",
      " #   Column                             Non-Null Count  Dtype  \n",
      "---  ------                             --------------  -----  \n",
      " 0   Company                            1795 non-null   object \n",
      " 1   Specific region of origin of bean  1795 non-null   object \n",
      " 2   REF                                1795 non-null   int64  \n",
      " 3   Review date                        1795 non-null   int64  \n",
      " 4   Cocoa %                            1795 non-null   object \n",
      " 5   Company location                   1795 non-null   object \n",
      " 6   Rating                             1795 non-null   float64\n",
      " 7   Bean type                          1795 non-null   object \n",
      " 8   Broad region of origin of bean     1794 non-null   object \n",
      "dtypes: float64(1), int64(2), object(6)\n",
      "memory usage: 126.3+ KB\n"
     ]
    }
   ],
   "source": [
    "df.info()"
   ]
  },
  {
   "cell_type": "code",
   "execution_count": 8,
   "metadata": {},
   "outputs": [
    {
     "data": {
      "text/plain": [
       "Index(['Company', 'Specific region of origin of bean', 'REF', 'Review date',\n",
       "       'Cocoa %', 'Company location', 'Rating', 'Bean type',\n",
       "       'Broad region of origin of bean'],\n",
       "      dtype='object')"
      ]
     },
     "execution_count": 8,
     "metadata": {},
     "output_type": "execute_result"
    }
   ],
   "source": [
    "df.keys()"
   ]
  },
  {
   "cell_type": "code",
   "execution_count": 12,
   "metadata": {},
   "outputs": [
    {
     "data": {
      "text/plain": [
       "'\\xa0'"
      ]
     },
     "execution_count": 12,
     "metadata": {},
     "output_type": "execute_result"
    }
   ],
   "source": [
    "df[\"Bean type\"][0]"
   ]
  },
  {
   "cell_type": "code",
   "execution_count": 30,
   "metadata": {},
   "outputs": [
    {
     "data": {
      "text/plain": [
       "'\\xa0'"
      ]
     },
     "execution_count": 30,
     "metadata": {},
     "output_type": "execute_result"
    }
   ],
   "source": [
    "moda_bean = df['Bean type'].mode()[0]\n",
    "moda_bean"
   ]
  },
  {
   "cell_type": "code",
   "execution_count": 33,
   "metadata": {},
   "outputs": [],
   "source": [
    "counts = df['Bean type'].value_counts()\n",
    "moda_bean = df['Bean type'].mode()[0]\n",
    "moda_bean2 = counts.index[1]  # El segundo valor más común\n",
    "df2=df[\"Bean type\"].replace(moda_bean,moda_bean2)"
   ]
  },
  {
   "cell_type": "code",
   "execution_count": 34,
   "metadata": {},
   "outputs": [],
   "source": [
    "df2.to_csv('datos_corregidos.csv', index=False)\n",
    "\n"
   ]
  },
  {
   "cell_type": "code",
   "execution_count": 36,
   "metadata": {},
   "outputs": [],
   "source": [
    "counts = df['Bean type'].value_counts()\n",
    "moda_bean = df['Bean type'].mode()[0]\n",
    "moda_bean2 = counts.index[1] if len(counts) > 1 else moda_bean\n",
    "\n",
    "# Reemplaza los valores que coincidan con '\\xa0'\n",
    "df2 = df.copy()  # Hacemos una copia de df para no modificar el original\n",
    "df2['Bean type'] = df2['Bean type'].replace(moda_bean, moda_bean2)\n",
    "\n",
    "# Guarda el DataFrame modificado en un nuevo archivo CSV\n",
    "df2.to_csv('data_modificada.csv', index=False)"
   ]
  }
 ],
 "metadata": {
  "kernelspec": {
   "display_name": "iteso",
   "language": "python",
   "name": "python3"
  },
  "language_info": {
   "codemirror_mode": {
    "name": "ipython",
    "version": 3
   },
   "file_extension": ".py",
   "mimetype": "text/x-python",
   "name": "python",
   "nbconvert_exporter": "python",
   "pygments_lexer": "ipython3",
   "version": "3.11.5"
  }
 },
 "nbformat": 4,
 "nbformat_minor": 2
}
