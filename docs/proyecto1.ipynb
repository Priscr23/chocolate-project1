{
 "cells": [
  {
   "cell_type": "code",
   "execution_count": 58,
   "metadata": {},
   "outputs": [],
   "source": [
    "import pandas as pd\n",
    "import streamlit as st\n",
    "import numpy as np"
   ]
  },
  {
   "cell_type": "code",
   "execution_count": 59,
   "metadata": {},
   "outputs": [],
   "source": [
    "\n",
    "df = pd.read_csv('C:/Users\\prisc/apps/data-analytics-course/data/raw/proyecto chocolate/flavors_of_cacao.csv',\n",
    "                 encoding=\"UTF8\"\n",
    "                 )"
   ]
  },
  {
   "cell_type": "code",
   "execution_count": 60,
   "metadata": {},
   "outputs": [
    {
     "data": {
      "text/html": [
       "<div>\n",
       "<style scoped>\n",
       "    .dataframe tbody tr th:only-of-type {\n",
       "        vertical-align: middle;\n",
       "    }\n",
       "\n",
       "    .dataframe tbody tr th {\n",
       "        vertical-align: top;\n",
       "    }\n",
       "\n",
       "    .dataframe thead th {\n",
       "        text-align: right;\n",
       "    }\n",
       "</style>\n",
       "<table border=\"1\" class=\"dataframe\">\n",
       "  <thead>\n",
       "    <tr style=\"text-align: right;\">\n",
       "      <th></th>\n",
       "      <th>Company</th>\n",
       "      <th>Specific region of origin of bean</th>\n",
       "      <th>REF</th>\n",
       "      <th>Review date</th>\n",
       "      <th>Cocoa %</th>\n",
       "      <th>Company location</th>\n",
       "      <th>Rating</th>\n",
       "      <th>Bean type</th>\n",
       "      <th>Broad region of origin of bean</th>\n",
       "    </tr>\n",
       "  </thead>\n",
       "  <tbody>\n",
       "    <tr>\n",
       "      <th>0</th>\n",
       "      <td>A. Morin</td>\n",
       "      <td>Agua Grande</td>\n",
       "      <td>1876</td>\n",
       "      <td>2016</td>\n",
       "      <td>63%</td>\n",
       "      <td>France</td>\n",
       "      <td>3.75</td>\n",
       "      <td></td>\n",
       "      <td>Sao Tome</td>\n",
       "    </tr>\n",
       "    <tr>\n",
       "      <th>1</th>\n",
       "      <td>A. Morin</td>\n",
       "      <td>Kpime</td>\n",
       "      <td>1676</td>\n",
       "      <td>2015</td>\n",
       "      <td>70%</td>\n",
       "      <td>France</td>\n",
       "      <td>2.75</td>\n",
       "      <td></td>\n",
       "      <td>Togo</td>\n",
       "    </tr>\n",
       "    <tr>\n",
       "      <th>2</th>\n",
       "      <td>A. Morin</td>\n",
       "      <td>Atsane</td>\n",
       "      <td>1676</td>\n",
       "      <td>2015</td>\n",
       "      <td>70%</td>\n",
       "      <td>France</td>\n",
       "      <td>3.00</td>\n",
       "      <td></td>\n",
       "      <td>Togo</td>\n",
       "    </tr>\n",
       "    <tr>\n",
       "      <th>3</th>\n",
       "      <td>A. Morin</td>\n",
       "      <td>Akata</td>\n",
       "      <td>1680</td>\n",
       "      <td>2015</td>\n",
       "      <td>70%</td>\n",
       "      <td>France</td>\n",
       "      <td>3.50</td>\n",
       "      <td></td>\n",
       "      <td>Togo</td>\n",
       "    </tr>\n",
       "    <tr>\n",
       "      <th>4</th>\n",
       "      <td>A. Morin</td>\n",
       "      <td>Quilla</td>\n",
       "      <td>1704</td>\n",
       "      <td>2015</td>\n",
       "      <td>70%</td>\n",
       "      <td>France</td>\n",
       "      <td>3.50</td>\n",
       "      <td></td>\n",
       "      <td>Peru</td>\n",
       "    </tr>\n",
       "    <tr>\n",
       "      <th>...</th>\n",
       "      <td>...</td>\n",
       "      <td>...</td>\n",
       "      <td>...</td>\n",
       "      <td>...</td>\n",
       "      <td>...</td>\n",
       "      <td>...</td>\n",
       "      <td>...</td>\n",
       "      <td>...</td>\n",
       "      <td>...</td>\n",
       "    </tr>\n",
       "    <tr>\n",
       "      <th>1790</th>\n",
       "      <td>Zotter</td>\n",
       "      <td>Peru</td>\n",
       "      <td>647</td>\n",
       "      <td>2011</td>\n",
       "      <td>70%</td>\n",
       "      <td>Austria</td>\n",
       "      <td>3.75</td>\n",
       "      <td></td>\n",
       "      <td>Peru</td>\n",
       "    </tr>\n",
       "    <tr>\n",
       "      <th>1791</th>\n",
       "      <td>Zotter</td>\n",
       "      <td>Congo</td>\n",
       "      <td>749</td>\n",
       "      <td>2011</td>\n",
       "      <td>65%</td>\n",
       "      <td>Austria</td>\n",
       "      <td>3.00</td>\n",
       "      <td>Forastero</td>\n",
       "      <td>Congo</td>\n",
       "    </tr>\n",
       "    <tr>\n",
       "      <th>1792</th>\n",
       "      <td>Zotter</td>\n",
       "      <td>Kerala State</td>\n",
       "      <td>749</td>\n",
       "      <td>2011</td>\n",
       "      <td>65%</td>\n",
       "      <td>Austria</td>\n",
       "      <td>3.50</td>\n",
       "      <td>Forastero</td>\n",
       "      <td>India</td>\n",
       "    </tr>\n",
       "    <tr>\n",
       "      <th>1793</th>\n",
       "      <td>Zotter</td>\n",
       "      <td>Kerala State</td>\n",
       "      <td>781</td>\n",
       "      <td>2011</td>\n",
       "      <td>62%</td>\n",
       "      <td>Austria</td>\n",
       "      <td>3.25</td>\n",
       "      <td></td>\n",
       "      <td>India</td>\n",
       "    </tr>\n",
       "    <tr>\n",
       "      <th>1794</th>\n",
       "      <td>Zotter</td>\n",
       "      <td>Brazil, Mitzi Blue</td>\n",
       "      <td>486</td>\n",
       "      <td>2010</td>\n",
       "      <td>65%</td>\n",
       "      <td>Austria</td>\n",
       "      <td>3.00</td>\n",
       "      <td></td>\n",
       "      <td>Brazil</td>\n",
       "    </tr>\n",
       "  </tbody>\n",
       "</table>\n",
       "<p>1795 rows × 9 columns</p>\n",
       "</div>"
      ],
      "text/plain": [
       "       Company Specific region of origin of bean   REF  Review date Cocoa %  \\\n",
       "0     A. Morin                       Agua Grande  1876         2016     63%   \n",
       "1     A. Morin                             Kpime  1676         2015     70%   \n",
       "2     A. Morin                            Atsane  1676         2015     70%   \n",
       "3     A. Morin                             Akata  1680         2015     70%   \n",
       "4     A. Morin                            Quilla  1704         2015     70%   \n",
       "...        ...                               ...   ...          ...     ...   \n",
       "1790    Zotter                              Peru   647         2011     70%   \n",
       "1791    Zotter                             Congo   749         2011     65%   \n",
       "1792    Zotter                      Kerala State   749         2011     65%   \n",
       "1793    Zotter                      Kerala State   781         2011     62%   \n",
       "1794    Zotter                Brazil, Mitzi Blue   486         2010     65%   \n",
       "\n",
       "     Company location  Rating  Bean type Broad region of origin of bean  \n",
       "0              France    3.75                                  Sao Tome  \n",
       "1              France    2.75                                      Togo  \n",
       "2              France    3.00                                      Togo  \n",
       "3              France    3.50                                      Togo  \n",
       "4              France    3.50                                      Peru  \n",
       "...               ...     ...        ...                            ...  \n",
       "1790          Austria    3.75                                      Peru  \n",
       "1791          Austria    3.00  Forastero                          Congo  \n",
       "1792          Austria    3.50  Forastero                          India  \n",
       "1793          Austria    3.25                                     India  \n",
       "1794          Austria    3.00                                    Brazil  \n",
       "\n",
       "[1795 rows x 9 columns]"
      ]
     },
     "execution_count": 60,
     "metadata": {},
     "output_type": "execute_result"
    }
   ],
   "source": [
    "\n",
    "df.columns = [\"Company\", \"Specific region of origin of bean\", \"REF\", \"Review date\", \"Cocoa %\",\"Company location\", \"Rating\", \"Bean type\", \"Broad region of origin of bean\"]\n",
    "df"
   ]
  },
  {
   "cell_type": "code",
   "execution_count": 61,
   "metadata": {},
   "outputs": [],
   "source": [
    "df1 = df.copy()\n",
    "counts = df['Bean type'].value_counts()\n",
    "moda_bean = df['Bean type'].mode()[0]\n",
    "moda_bean2 = counts.index[1] if len(counts) > 1 else moda_bean\n",
    "\n",
    "df1['Bean type'] = df1['Bean type'].replace(moda_bean, moda_bean2)\n",
    "\n",
    "df1['Bean type'].fillna(moda_bean2, inplace=True)\n",
    "\n",
    "df1.to_csv('datos_modificados.csv', index=False)\n",
    "\n"
   ]
  },
  {
   "cell_type": "code",
   "execution_count": 62,
   "metadata": {},
   "outputs": [],
   "source": [
    "df_1=pd.read_csv('C:/Users/prisc/apps/chocolate-project1/docs/datos_modificados.csv')"
   ]
  },
  {
   "cell_type": "code",
   "execution_count": 63,
   "metadata": {},
   "outputs": [
    {
     "data": {
      "text/plain": [
       "'\\xa0'"
      ]
     },
     "execution_count": 63,
     "metadata": {},
     "output_type": "execute_result"
    }
   ],
   "source": [
    "df1['Broad region of origin of bean'][77]"
   ]
  },
  {
   "cell_type": "code",
   "execution_count": 64,
   "metadata": {},
   "outputs": [],
   "source": [
    "df3 = df_1.copy()\n",
    "df3['Broad region of origin of bean'].replace('\\xa0', np.nan, inplace=True)\n",
    "\n",
    "df3['Broad region of origin of bean'].fillna('', inplace=True)\n",
    "\n",
    "moda = df3['Broad region of origin of bean'].mode()[0]\n",
    "\n",
    "df3['Broad region of origin of bean'].replace('', moda, inplace=True)\n",
    "\n",
    "\n",
    "df3.to_csv('datos_modificados1.csv', index=False)\n"
   ]
  },
  {
   "cell_type": "code",
   "execution_count": 65,
   "metadata": {},
   "outputs": [],
   "source": [
    "df_3=pd.read_csv('C:/Users/prisc/apps/chocolate-project1/docs/datos_modificados1.csv')"
   ]
  },
  {
   "cell_type": "code",
   "execution_count": 66,
   "metadata": {},
   "outputs": [],
   "source": [
    "df2 = df_3.copy()  \n",
    "mapeo_fusion = {\n",
    "    'Eucador': 'Ecuador',\n",
    "    'Niacragua': 'Nicaragua'\n",
    "}\n",
    "\n",
    "df2['Company location'] = df2['Company location'].replace(mapeo_fusion)\n",
    "\n",
    "df2.to_csv('datos_modificados2.csv', index=False)\n",
    "\n"
   ]
  },
  {
   "cell_type": "code",
   "execution_count": 67,
   "metadata": {},
   "outputs": [],
   "source": [
    "df_2=pd.read_csv('C:/Users/prisc/apps/chocolate-project1/docs/datos_modificados2.csv')"
   ]
  },
  {
   "cell_type": "code",
   "execution_count": 68,
   "metadata": {},
   "outputs": [
    {
     "name": "stdout",
     "output_type": "stream",
     "text": [
      "La región de origen más común de las semillas de cacao es: Venezuela\n"
     ]
    }
   ],
   "source": [
    "frecuencia_region = df_2['Broad region of origin of bean'].value_counts()\n",
    "\n",
    "region_mas_comun = frecuencia_region.idxmax()\n",
    "\n",
    "print(\"La región de origen más común de las semillas de cacao es:\", region_mas_comun)"
   ]
  },
  {
   "cell_type": "code",
   "execution_count": 69,
   "metadata": {},
   "outputs": [
    {
     "data": {
      "text/plain": [
       "'Trinitario'"
      ]
     },
     "execution_count": 69,
     "metadata": {},
     "output_type": "execute_result"
    }
   ],
   "source": [
    "\n",
    "moda_bean = df_2['Bean type'].mode()[0]\n",
    "moda_bean"
   ]
  },
  {
   "cell_type": "code",
   "execution_count": 70,
   "metadata": {},
   "outputs": [
    {
     "name": "stdout",
     "output_type": "stream",
     "text": [
      "La ubicación más común de las compañías productoras de chocolate es: U.S.A.\n"
     ]
    }
   ],
   "source": [
    "frecuencia_ubicacion = df_2['Company location'].value_counts()\n",
    "\n",
    "ubicacion_mas_comun = frecuencia_ubicacion.idxmax()\n",
    "\n",
    "print(\"La ubicación más común de las compañías productoras de chocolate es:\", ubicacion_mas_comun)"
   ]
  },
  {
   "cell_type": "code",
   "execution_count": 71,
   "metadata": {},
   "outputs": [
    {
     "name": "stdout",
     "output_type": "stream",
     "text": [
      "El porcentaje de cacao más popular es: 50%\n"
     ]
    }
   ],
   "source": [
    "calificacion_promedio = df_2.groupby('Cocoa %')['Rating'].mean()\n",
    "porcentaje_mas_popular = calificacion_promedio.idxmax()\n",
    "\n",
    "print(\"El porcentaje de cacao más popular es:\", porcentaje_mas_popular)"
   ]
  },
  {
   "cell_type": "code",
   "execution_count": 72,
   "metadata": {},
   "outputs": [
    {
     "name": "stdout",
     "output_type": "stream",
     "text": [
      "Los tipos de semilla de cacao con los mayores puntajes son:\n",
      "Criollo (Ocumare 67)\n",
      "Criollo (Wild)\n"
     ]
    }
   ],
   "source": [
    "calificacion_promedio_por_tipo = df_2.groupby('Bean type')['Rating'].mean()\n",
    "max_rating = calificacion_promedio_por_tipo.max()\n",
    "tipos_mas_puntuados = calificacion_promedio_por_tipo[calificacion_promedio_por_tipo == max_rating].index.tolist()\n",
    "\n",
    "print(\"Los tipos de semilla de cacao con los mayores puntajes son:\")\n",
    "for tipo in tipos_mas_puntuados:\n",
    "    print(tipo)"
   ]
  },
  {
   "cell_type": "code",
   "execution_count": 73,
   "metadata": {},
   "outputs": [
    {
     "name": "stdout",
     "output_type": "stream",
     "text": [
      "La mejor compañía de acuerdo con la calificación promedio es: Tobago Estate (Pralus) ,con un rating de: 4.0\n",
      "La ubicación de la compañía: France\n",
      "El origen del cacao de la compañía: Tobago ,específicamente de la región de: Roxborough, Tobago\n"
     ]
    }
   ],
   "source": [
    "calificacion_promedio_por_compania = df_2.groupby('Company')['Rating'].mean()\n",
    "mejor_compania = calificacion_promedio_por_compania.idxmax()\n",
    "calificacion_promedio_maxima = calificacion_promedio_por_compania.max()\n",
    "ubicacion_mejor_compania = df2.loc[df_2['Company'] == mejor_compania, 'Company location'].iloc[0]\n",
    "origen_cacao_mejor_compania = df2.loc[df_2['Company'] == mejor_compania, 'Broad region of origin of bean'].iloc[0]\n",
    "region_cacao_mejor_compania = df2.loc[df_2['Company'] == mejor_compania, 'Specific region of origin of bean'].iloc[0]\n",
    "\n",
    "print(\"La mejor compañía de acuerdo con la calificación promedio es:\", mejor_compania,',con un rating de:',calificacion_promedio_maxima)\n",
    "print(\"La ubicación de la compañía:\", ubicacion_mejor_compania)\n",
    "print(\"El origen del cacao de la compañía:\", origen_cacao_mejor_compania,',específicamente de la región de:',region_cacao_mejor_compania)"
   ]
  },
  {
   "cell_type": "code",
   "execution_count": 74,
   "metadata": {},
   "outputs": [
    {
     "name": "stdout",
     "output_type": "stream",
     "text": [
      "El tipo de semilla de la compañía: Trinitario\n"
     ]
    }
   ],
   "source": [
    "\n",
    "semilla_mejor_compania = df_2.loc[df2['Company'] == mejor_compania, 'Bean type'].iloc[0]\n",
    "print(\"El tipo de semilla de la compañía:\", semilla_mejor_compania)"
   ]
  },
  {
   "cell_type": "code",
   "execution_count": 75,
   "metadata": {},
   "outputs": [
    {
     "name": "stdout",
     "output_type": "stream",
     "text": [
      "La peor compañía de acuerdo con la calificación promedio es: Cote d' Or (Kraft) , con un rating de: 1.0\n",
      "La ubicación de la compañía: Belgium\n",
      "El origen del cacao de la compañía: Venezuela ,específicamente de la región de: Sensations Intense\n"
     ]
    }
   ],
   "source": [
    "calificacion_promedio_por_compania = df_2.groupby('Company')['Rating'].mean()\n",
    "peor_compania = calificacion_promedio_por_compania.idxmin()\n",
    "calificacion_promedio_minima = calificacion_promedio_por_compania.min()\n",
    "ubicacion_peor_compania = df_2.loc[df_2['Company'] == peor_compania, 'Company location'].iloc[0]\n",
    "origen_cacao_peor_compania = df_2.loc[df_2['Company'] == peor_compania, 'Broad region of origin of bean'].iloc[0]\n",
    "region_cacao_peor_compania = df_2.loc[df_2['Company'] == peor_compania, 'Specific region of origin of bean'].iloc[0]\n",
    "\n",
    "print(\"La peor compañía de acuerdo con la calificación promedio es:\", peor_compania, ', con un rating de:', calificacion_promedio_minima)\n",
    "print(\"La ubicación de la compañía:\", ubicacion_peor_compania)\n",
    "print(\"El origen del cacao de la compañía:\", origen_cacao_peor_compania, ',específicamente de la región de:', region_cacao_peor_compania)"
   ]
  },
  {
   "cell_type": "code",
   "execution_count": 76,
   "metadata": {},
   "outputs": [
    {
     "name": "stdout",
     "output_type": "stream",
     "text": [
      "El tipo de semilla de la compañía: Trinitario\n"
     ]
    }
   ],
   "source": [
    "semilla_peor_compania = df_2.loc[df2['Company'] == peor_compania, 'Bean type'].iloc[0]\n",
    "print(\"El tipo de semilla de la compañía:\", semilla_peor_compania)"
   ]
  },
  {
   "cell_type": "code",
   "execution_count": 77,
   "metadata": {},
   "outputs": [
    {
     "name": "stdout",
     "output_type": "stream",
     "text": [
      "La compañía que produce principalmente chocolate con más del 60% de cacao es: Soma\n"
     ]
    }
   ],
   "source": [
    "chocolate_alto_cacao = df_2[df_2['Cocoa %'] > '60']\n",
    "\n",
    "frecuencia_compania = chocolate_alto_cacao['Company'].value_counts()\n",
    "\n",
    "compania_mas_comun = frecuencia_compania.idxmax()\n",
    "\n",
    "print(\"La compañía que produce principalmente chocolate con más del 60% de cacao es:\", compania_mas_comun)"
   ]
  },
  {
   "cell_type": "code",
   "execution_count": 78,
   "metadata": {},
   "outputs": [
    {
     "name": "stdout",
     "output_type": "stream",
     "text": [
      "La última revisión realizada tiene el REF: 1952 ,hecha en el año: 2017\n",
      "Hecho hacia la compañía: Dick Taylor ,con un rating de: 3.75\n"
     ]
    }
   ],
   "source": [
    "indice_ultima_revision = df_2['REF'].idxmax()\n",
    "ref_ultima_revision = df_2.loc[indice_ultima_revision, 'REF']\n",
    "fecha_ultima_revision = df_2.loc[indice_ultima_revision, 'Review date']\n",
    "rating_ultima_revision = df_2.loc[indice_ultima_revision, 'Rating']\n",
    "compania_ultima_revision = df_2.loc[indice_ultima_revision, 'Company']\n",
    "\n",
    "print(\"La última revisión realizada tiene el REF:\", ref_ultima_revision,',hecha en el año:',fecha_ultima_revision)\n",
    "print(\"Hecho hacia la compañía:\", compania_ultima_revision,',con un rating de:',rating_ultima_revision)"
   ]
  },
  {
   "cell_type": "code",
   "execution_count": 79,
   "metadata": {},
   "outputs": [
    {
     "name": "stdout",
     "output_type": "stream",
     "text": [
      "Número total de ubicaciones de compañías: 58\n"
     ]
    }
   ],
   "source": [
    "\n",
    "num_ubicaciones = df_2['Company location'].nunique()\n",
    "\n",
    "print(\"Número total de ubicaciones de compañías:\", num_ubicaciones)"
   ]
  },
  {
   "cell_type": "code",
   "execution_count": 80,
   "metadata": {},
   "outputs": [
    {
     "name": "stdout",
     "output_type": "stream",
     "text": [
      "Número total de valores en la columna 'Company location': 1795\n"
     ]
    }
   ],
   "source": [
    "\n",
    "total_valores = df['Company location'].shape[0]\n",
    "\n",
    "print(\"Número total de valores en la columna 'Company location':\", total_valores)\n"
   ]
  },
  {
   "cell_type": "code",
   "execution_count": 81,
   "metadata": {},
   "outputs": [
    {
     "name": "stdout",
     "output_type": "stream",
     "text": [
      "Porcentaje de compañías ubicadas en países de Latinoamérica: 7.7994428969359335\n"
     ]
    }
   ],
   "source": [
    "\n",
    "paises_latinoamerica = ['Argentina', 'Bolivia', 'Brasil', 'Chile', 'Colombia', 'Costa Rica', 'Cuba', 'Ecuador', 'El Salvador', 'Guatemala', 'Honduras', 'México', 'Nicaragua', 'Panamá', 'Paraguay', 'Perú', 'República Dominicana', 'Uruguay', 'Venezuela']\n",
    "\n",
    "latinoamerica_df = df[df['Company location'].isin(paises_latinoamerica)]\n",
    "\n",
    "num_companias_latinoamerica = latinoamerica_df.shape[0]\n",
    "num_total_companias = df.shape[0]\n",
    "\n",
    "porcentaje_latam = (num_companias_latinoamerica / num_total_companias) * 100\n",
    "\n",
    "print(\"Porcentaje de compañías ubicadas en países de Latinoamérica:\", porcentaje_latam)\n"
   ]
  },
  {
   "cell_type": "code",
   "execution_count": 82,
   "metadata": {},
   "outputs": [
    {
     "name": "stdout",
     "output_type": "stream",
     "text": [
      "Número de compañías ubicadas en países de Latinoamérica: 142\n"
     ]
    }
   ],
   "source": [
    "\n",
    "paises_latinoamerica = ['Argentina', 'Bolivia', 'Brasil', 'Chile', 'Colombia', 'Costa Rica', 'Cuba', 'Ecuador', 'El Salvador', 'Guatemala', 'Honduras', 'México', 'Nicaragua', 'Panamá', 'Paraguay', 'Perú', 'República Dominicana', 'Uruguay', 'Venezuela']\n",
    "\n",
    "latinoamerica_df = df_2[df_2['Company location'].isin(paises_latinoamerica)]\n",
    "\n",
    "num_companias_latinoamerica = latinoamerica_df.shape[0]\n",
    "\n",
    "print(\"Número de compañías ubicadas en países de Latinoamérica:\", num_companias_latinoamerica)\n",
    "\n"
   ]
  },
  {
   "cell_type": "markdown",
   "metadata": {},
   "source": [
    "# Clasificador"
   ]
  },
  {
   "cell_type": "markdown",
   "metadata": {},
   "source": [
    "\n",
    "La función de este clasificador será predecir que tipo de semilla de cacao es a base de las demás columnas excepto la de 'Bean type'"
   ]
  },
  {
   "cell_type": "code",
   "execution_count": 83,
   "metadata": {},
   "outputs": [
    {
     "name": "stdout",
     "output_type": "stream",
     "text": [
      "Precisión del modelo: 0.7938718662952646\n"
     ]
    }
   ],
   "source": [
    "import pandas as pd\n",
    "from sklearn.model_selection import train_test_split\n",
    "from sklearn.ensemble import RandomForestClassifier\n",
    "from sklearn.metrics import accuracy_score\n",
    "from sklearn.preprocessing import StandardScaler\n",
    "from sklearn.neighbors import KNeighborsClassifier\n",
    "\n",
    "df_c = pd.read_csv('C:/Users/prisc/apps/chocolate-project1/docs/datos_modificados1.csv')\n",
    "\n",
    "df_c = pd.get_dummies(df_c, columns=['Company', 'Specific region of origin of bean', 'Company location', 'Broad region of origin of bean'])\n",
    "df_c['Cocoa %'] = df_c['Cocoa %'].str.rstrip('%').astype(float)\n",
    "\n",
    "X = df_c.drop('Bean type', axis=1)  \n",
    "y = df_c['Bean type'] \n",
    "\n",
    "X_train, X_test, y_train, y_test = train_test_split(X, y, test_size=0.2, random_state=42)\n",
    "clf = RandomForestClassifier() #Ayuda cuando tienes nuevos datos el bosque vota por la clase que cree que es correcta, la que tenga más votos  es la elegida como su predicción\n",
    "clf.fit(X_train, y_train)\n",
    "y_pred = clf.predict(X_test)\n",
    "\n",
    "accuracy = accuracy_score(y_test, y_pred)\n",
    "print(\"Precisión del modelo:\", accuracy)"
   ]
  },
  {
   "cell_type": "code",
   "execution_count": 84,
   "metadata": {},
   "outputs": [
    {
     "name": "stdout",
     "output_type": "stream",
     "text": [
      "Precisión: 0.7325905292479109\n"
     ]
    }
   ],
   "source": [
    "import pandas as pd\n",
    "from sklearn.model_selection import train_test_split\n",
    "from sklearn.metrics import accuracy_score\n",
    "from sklearn.preprocessing import StandardScaler\n",
    "from sklearn.neighbors import KNeighborsClassifier\n",
    "\n",
    "df_c = pd.read_csv('C:/Users/prisc/apps/chocolate-project1/docs/datos_modificados1.csv')\n",
    "\n",
    "df_c = pd.get_dummies(df_c, columns=['Company', 'Specific region of origin of bean', 'Company location', 'Broad region of origin of bean'])\n",
    "\n",
    "df_c['Cocoa %'] = df_c['Cocoa %'].str.rstrip('%').astype(float)\n",
    "\n",
    "X = df_c.drop('Bean type', axis=1)  \n",
    "y = df_c['Bean type'] \n",
    "\n",
    "X_train, X_test, y_train, y_test = train_test_split(X, y, test_size=0.2) \n",
    "\n",
    "scaler = StandardScaler()\n",
    "X_train = scaler.fit_transform(X_train)\n",
    "X_test = scaler.transform(X_test)\n",
    "\n",
    "knn = KNeighborsClassifier(n_neighbors=5)\n",
    "knn.fit(X_train, y_train)\n",
    "\n",
    "y_pred = knn.predict(X_test)\n",
    "\n",
    "accuracy = accuracy_score(y_test, y_pred)\n",
    "print(\"Precisión:\", accuracy)\n"
   ]
  },
  {
   "cell_type": "code",
   "execution_count": 85,
   "metadata": {},
   "outputs": [
    {
     "name": "stdout",
     "output_type": "stream",
     "text": [
      "Entrenamiento: 0.7722841225626741\n",
      "Prueba: 0.7632311977715878\n",
      "Accuracy: 0.7632311977715878\n"
     ]
    }
   ],
   "source": [
    "import pandas as pd\n",
    "from sklearn.preprocessing import StandardScaler\n",
    "from sklearn.model_selection import train_test_split\n",
    "from sklearn.neighbors import KNeighborsClassifier\n",
    "from sklearn.metrics import accuracy_score\n",
    "\n",
    "df_c = pd.read_csv('C:/Users/prisc/apps/chocolate-project1/docs/datos_modificados1.csv')\n",
    "\n",
    "df_c = pd.get_dummies(df_c, columns=['Company', 'Specific region of origin of bean', 'Company location', 'Broad region of origin of bean'])\n",
    "\n",
    "df_c['Cocoa %'] = df_c['Cocoa %'].str.rstrip('%').astype(float)\n",
    "\n",
    "X = df_c.drop('Bean type', axis=1)  \n",
    "y = df_c['Bean type'] \n",
    "\n",
    "X_train, X_test, y_train, y_test = train_test_split(X, y, test_size=0.2) \n",
    "\n",
    "scaler = StandardScaler()\n",
    "X_train_scaled = scaler.fit_transform(X_train)\n",
    "X_test_scaled = scaler.transform(X_test)\n",
    "\n",
    "# Train KNN \n",
    "knn = KNeighborsClassifier(n_neighbors=5)\n",
    "knn.fit(X_train_scaled, y_train)\n",
    "\n",
    "# Predict test\n",
    "y_pred = knn.predict(X_test_scaled)\n",
    "\n",
    "# accuracy\n",
    "accuracy = accuracy_score(y_test, y_pred)\n",
    "train_score = knn.score(X_train_scaled, y_train)\n",
    "test_score = knn.score(X_test_scaled, y_test)\n",
    "\n",
    "print(\"Entrenamiento:\", train_score)\n",
    "print(\"Prueba:\", test_score)\n",
    "print(\"Accuracy:\", accuracy)\n"
   ]
  }
 ],
 "metadata": {
  "kernelspec": {
   "display_name": "base",
   "language": "python",
   "name": "python3"
  },
  "language_info": {
   "codemirror_mode": {
    "name": "ipython",
    "version": 3
   },
   "file_extension": ".py",
   "mimetype": "text/x-python",
   "name": "python",
   "nbconvert_exporter": "python",
   "pygments_lexer": "ipython3",
   "version": "3.11.5"
  }
 },
 "nbformat": 4,
 "nbformat_minor": 2
}
