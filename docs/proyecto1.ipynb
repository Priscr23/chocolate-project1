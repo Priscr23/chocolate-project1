{
 "cells": [
  {
   "cell_type": "code",
   "execution_count": 61,
   "metadata": {},
   "outputs": [],
   "source": [
    "import pandas as pd\n",
    "import streamlit as st\n",
    "import numpy as np"
   ]
  },
  {
   "cell_type": "code",
   "execution_count": 62,
   "metadata": {},
   "outputs": [],
   "source": [
    "\n",
    "df = pd.read_csv('C:/Users\\prisc/apps/data-analytics-course/data/raw/proyecto chocolate/flavors_of_cacao.csv',\n",
    "                 encoding=\"UTF8\"\n",
    "                 )"
   ]
  },
  {
   "cell_type": "code",
   "execution_count": 63,
   "metadata": {},
   "outputs": [
    {
     "data": {
      "text/html": [
       "<div>\n",
       "<style scoped>\n",
       "    .dataframe tbody tr th:only-of-type {\n",
       "        vertical-align: middle;\n",
       "    }\n",
       "\n",
       "    .dataframe tbody tr th {\n",
       "        vertical-align: top;\n",
       "    }\n",
       "\n",
       "    .dataframe thead th {\n",
       "        text-align: right;\n",
       "    }\n",
       "</style>\n",
       "<table border=\"1\" class=\"dataframe\">\n",
       "  <thead>\n",
       "    <tr style=\"text-align: right;\">\n",
       "      <th></th>\n",
       "      <th>Company</th>\n",
       "      <th>Specific region of origin of bean</th>\n",
       "      <th>REF</th>\n",
       "      <th>Review date</th>\n",
       "      <th>Cocoa %</th>\n",
       "      <th>Company location</th>\n",
       "      <th>Rating</th>\n",
       "      <th>Bean type</th>\n",
       "      <th>Broad region of origin of bean</th>\n",
       "    </tr>\n",
       "  </thead>\n",
       "  <tbody>\n",
       "    <tr>\n",
       "      <th>0</th>\n",
       "      <td>A. Morin</td>\n",
       "      <td>Agua Grande</td>\n",
       "      <td>1876</td>\n",
       "      <td>2016</td>\n",
       "      <td>63%</td>\n",
       "      <td>France</td>\n",
       "      <td>3.75</td>\n",
       "      <td></td>\n",
       "      <td>Sao Tome</td>\n",
       "    </tr>\n",
       "    <tr>\n",
       "      <th>1</th>\n",
       "      <td>A. Morin</td>\n",
       "      <td>Kpime</td>\n",
       "      <td>1676</td>\n",
       "      <td>2015</td>\n",
       "      <td>70%</td>\n",
       "      <td>France</td>\n",
       "      <td>2.75</td>\n",
       "      <td></td>\n",
       "      <td>Togo</td>\n",
       "    </tr>\n",
       "    <tr>\n",
       "      <th>2</th>\n",
       "      <td>A. Morin</td>\n",
       "      <td>Atsane</td>\n",
       "      <td>1676</td>\n",
       "      <td>2015</td>\n",
       "      <td>70%</td>\n",
       "      <td>France</td>\n",
       "      <td>3.00</td>\n",
       "      <td></td>\n",
       "      <td>Togo</td>\n",
       "    </tr>\n",
       "    <tr>\n",
       "      <th>3</th>\n",
       "      <td>A. Morin</td>\n",
       "      <td>Akata</td>\n",
       "      <td>1680</td>\n",
       "      <td>2015</td>\n",
       "      <td>70%</td>\n",
       "      <td>France</td>\n",
       "      <td>3.50</td>\n",
       "      <td></td>\n",
       "      <td>Togo</td>\n",
       "    </tr>\n",
       "    <tr>\n",
       "      <th>4</th>\n",
       "      <td>A. Morin</td>\n",
       "      <td>Quilla</td>\n",
       "      <td>1704</td>\n",
       "      <td>2015</td>\n",
       "      <td>70%</td>\n",
       "      <td>France</td>\n",
       "      <td>3.50</td>\n",
       "      <td></td>\n",
       "      <td>Peru</td>\n",
       "    </tr>\n",
       "    <tr>\n",
       "      <th>...</th>\n",
       "      <td>...</td>\n",
       "      <td>...</td>\n",
       "      <td>...</td>\n",
       "      <td>...</td>\n",
       "      <td>...</td>\n",
       "      <td>...</td>\n",
       "      <td>...</td>\n",
       "      <td>...</td>\n",
       "      <td>...</td>\n",
       "    </tr>\n",
       "    <tr>\n",
       "      <th>1790</th>\n",
       "      <td>Zotter</td>\n",
       "      <td>Peru</td>\n",
       "      <td>647</td>\n",
       "      <td>2011</td>\n",
       "      <td>70%</td>\n",
       "      <td>Austria</td>\n",
       "      <td>3.75</td>\n",
       "      <td></td>\n",
       "      <td>Peru</td>\n",
       "    </tr>\n",
       "    <tr>\n",
       "      <th>1791</th>\n",
       "      <td>Zotter</td>\n",
       "      <td>Congo</td>\n",
       "      <td>749</td>\n",
       "      <td>2011</td>\n",
       "      <td>65%</td>\n",
       "      <td>Austria</td>\n",
       "      <td>3.00</td>\n",
       "      <td>Forastero</td>\n",
       "      <td>Congo</td>\n",
       "    </tr>\n",
       "    <tr>\n",
       "      <th>1792</th>\n",
       "      <td>Zotter</td>\n",
       "      <td>Kerala State</td>\n",
       "      <td>749</td>\n",
       "      <td>2011</td>\n",
       "      <td>65%</td>\n",
       "      <td>Austria</td>\n",
       "      <td>3.50</td>\n",
       "      <td>Forastero</td>\n",
       "      <td>India</td>\n",
       "    </tr>\n",
       "    <tr>\n",
       "      <th>1793</th>\n",
       "      <td>Zotter</td>\n",
       "      <td>Kerala State</td>\n",
       "      <td>781</td>\n",
       "      <td>2011</td>\n",
       "      <td>62%</td>\n",
       "      <td>Austria</td>\n",
       "      <td>3.25</td>\n",
       "      <td></td>\n",
       "      <td>India</td>\n",
       "    </tr>\n",
       "    <tr>\n",
       "      <th>1794</th>\n",
       "      <td>Zotter</td>\n",
       "      <td>Brazil, Mitzi Blue</td>\n",
       "      <td>486</td>\n",
       "      <td>2010</td>\n",
       "      <td>65%</td>\n",
       "      <td>Austria</td>\n",
       "      <td>3.00</td>\n",
       "      <td></td>\n",
       "      <td>Brazil</td>\n",
       "    </tr>\n",
       "  </tbody>\n",
       "</table>\n",
       "<p>1795 rows × 9 columns</p>\n",
       "</div>"
      ],
      "text/plain": [
       "       Company Specific region of origin of bean   REF  Review date Cocoa %  \\\n",
       "0     A. Morin                       Agua Grande  1876         2016     63%   \n",
       "1     A. Morin                             Kpime  1676         2015     70%   \n",
       "2     A. Morin                            Atsane  1676         2015     70%   \n",
       "3     A. Morin                             Akata  1680         2015     70%   \n",
       "4     A. Morin                            Quilla  1704         2015     70%   \n",
       "...        ...                               ...   ...          ...     ...   \n",
       "1790    Zotter                              Peru   647         2011     70%   \n",
       "1791    Zotter                             Congo   749         2011     65%   \n",
       "1792    Zotter                      Kerala State   749         2011     65%   \n",
       "1793    Zotter                      Kerala State   781         2011     62%   \n",
       "1794    Zotter                Brazil, Mitzi Blue   486         2010     65%   \n",
       "\n",
       "     Company location  Rating  Bean type Broad region of origin of bean  \n",
       "0              France    3.75                                  Sao Tome  \n",
       "1              France    2.75                                      Togo  \n",
       "2              France    3.00                                      Togo  \n",
       "3              France    3.50                                      Togo  \n",
       "4              France    3.50                                      Peru  \n",
       "...               ...     ...        ...                            ...  \n",
       "1790          Austria    3.75                                      Peru  \n",
       "1791          Austria    3.00  Forastero                          Congo  \n",
       "1792          Austria    3.50  Forastero                          India  \n",
       "1793          Austria    3.25                                     India  \n",
       "1794          Austria    3.00                                    Brazil  \n",
       "\n",
       "[1795 rows x 9 columns]"
      ]
     },
     "execution_count": 63,
     "metadata": {},
     "output_type": "execute_result"
    }
   ],
   "source": [
    "\n",
    "df.columns = [\"Company\", \"Specific region of origin of bean\", \"REF\", \"Review date\", \"Cocoa %\",\"Company location\", \"Rating\", \"Bean type\", \"Broad region of origin of bean\"]\n",
    "df"
   ]
  },
  {
   "cell_type": "code",
   "execution_count": 64,
   "metadata": {},
   "outputs": [],
   "source": [
    "\n",
    "counts = df['Bean type'].value_counts()\n",
    "moda_bean = df['Bean type'].mode()[0]\n",
    "moda_bean2 = counts.index[1] if len(counts) > 1 else moda_bean\n",
    "\n",
    "# Reemplazar la moda por la segunda moda en la columna 'Bean type'\n",
    "df1 = df.copy()  # Hacemos una copia de df para no modificar el original\n",
    "df1['Bean type'] = df1['Bean type'].replace(moda_bean, moda_bean2)\n",
    "\n",
    "# Reemplazar los valores vacíos por la moda en la columna 'Bean type'\n",
    "df1['Bean type'].fillna(moda_bean2, inplace=True)\n",
    "\n",
    "# Guardar df1 como un archivo CSV\n",
    "df1.to_csv('datos_modificados.csv', index=False)\n",
    "\n"
   ]
  },
  {
   "cell_type": "code",
   "execution_count": 65,
   "metadata": {},
   "outputs": [],
   "source": [
    "df_1=pd.read_csv('C:/Users/prisc/apps/chocolate-project1/docs/datos_modificados.csv')"
   ]
  },
  {
   "cell_type": "code",
   "execution_count": 66,
   "metadata": {},
   "outputs": [
    {
     "data": {
      "text/plain": [
       "'\\xa0'"
      ]
     },
     "execution_count": 66,
     "metadata": {},
     "output_type": "execute_result"
    }
   ],
   "source": [
    "df1['Broad region of origin of bean'][77]"
   ]
  },
  {
   "cell_type": "code",
   "execution_count": 67,
   "metadata": {},
   "outputs": [],
   "source": [
    "df3 = df_1.copy()\n",
    "df3['Broad region of origin of bean'].replace('\\xa0', np.nan, inplace=True)\n",
    "\n",
    "# Reemplazar valores nulos con cadenas vacías\n",
    "df3['Broad region of origin of bean'].fillna('', inplace=True)\n",
    "\n",
    "# Calcular la moda de la columna 'Broad region of origin of bean' excluyendo las cadenas vacías\n",
    "moda = df3['Broad region of origin of bean'].mode()[0]\n",
    "\n",
    "# Reemplazar los valores vacíos con la moda\n",
    "df3['Broad region of origin of bean'].replace('', moda, inplace=True)\n",
    "\n",
    "\n",
    "# Guardar df_2 como un archivo CSV\n",
    "df3.to_csv('datos_modificados1.csv', index=False)\n"
   ]
  },
  {
   "cell_type": "code",
   "execution_count": 68,
   "metadata": {},
   "outputs": [],
   "source": [
    "df_3=pd.read_csv('C:/Users/prisc/apps/chocolate-project1/docs/datos_modificados1.csv')"
   ]
  },
  {
   "cell_type": "code",
   "execution_count": 73,
   "metadata": {},
   "outputs": [
    {
     "ename": "PermissionError",
     "evalue": "[Errno 13] Permission denied: 'datos_modificados2.csv'",
     "output_type": "error",
     "traceback": [
      "\u001b[1;31m---------------------------------------------------------------------------\u001b[0m",
      "\u001b[1;31mPermissionError\u001b[0m                           Traceback (most recent call last)",
      "Cell \u001b[1;32mIn[73], line 11\u001b[0m\n\u001b[0;32m      8\u001b[0m df2[\u001b[38;5;124m'\u001b[39m\u001b[38;5;124mCompany location\u001b[39m\u001b[38;5;124m'\u001b[39m] \u001b[38;5;241m=\u001b[39m df2[\u001b[38;5;124m'\u001b[39m\u001b[38;5;124mCompany location\u001b[39m\u001b[38;5;124m'\u001b[39m]\u001b[38;5;241m.\u001b[39mreplace(mapeo_fusion)\n\u001b[0;32m     10\u001b[0m \u001b[38;5;66;03m# Guardar el DataFrame corregido en un nuevo archivo CSV\u001b[39;00m\n\u001b[1;32m---> 11\u001b[0m \u001b[43mdf2\u001b[49m\u001b[38;5;241;43m.\u001b[39;49m\u001b[43mto_csv\u001b[49m\u001b[43m(\u001b[49m\u001b[38;5;124;43m'\u001b[39;49m\u001b[38;5;124;43mdatos_modificados2.csv\u001b[39;49m\u001b[38;5;124;43m'\u001b[39;49m\u001b[43m,\u001b[49m\u001b[43m \u001b[49m\u001b[43mindex\u001b[49m\u001b[38;5;241;43m=\u001b[39;49m\u001b[38;5;28;43;01mFalse\u001b[39;49;00m\u001b[43m)\u001b[49m\n",
      "File \u001b[1;32mc:\\Users\\prisc\\anaconda3\\Lib\\site-packages\\pandas\\core\\generic.py:3772\u001b[0m, in \u001b[0;36mNDFrame.to_csv\u001b[1;34m(self, path_or_buf, sep, na_rep, float_format, columns, header, index, index_label, mode, encoding, compression, quoting, quotechar, lineterminator, chunksize, date_format, doublequote, escapechar, decimal, errors, storage_options)\u001b[0m\n\u001b[0;32m   3761\u001b[0m df \u001b[38;5;241m=\u001b[39m \u001b[38;5;28mself\u001b[39m \u001b[38;5;28;01mif\u001b[39;00m \u001b[38;5;28misinstance\u001b[39m(\u001b[38;5;28mself\u001b[39m, ABCDataFrame) \u001b[38;5;28;01melse\u001b[39;00m \u001b[38;5;28mself\u001b[39m\u001b[38;5;241m.\u001b[39mto_frame()\n\u001b[0;32m   3763\u001b[0m formatter \u001b[38;5;241m=\u001b[39m DataFrameFormatter(\n\u001b[0;32m   3764\u001b[0m     frame\u001b[38;5;241m=\u001b[39mdf,\n\u001b[0;32m   3765\u001b[0m     header\u001b[38;5;241m=\u001b[39mheader,\n\u001b[1;32m   (...)\u001b[0m\n\u001b[0;32m   3769\u001b[0m     decimal\u001b[38;5;241m=\u001b[39mdecimal,\n\u001b[0;32m   3770\u001b[0m )\n\u001b[1;32m-> 3772\u001b[0m \u001b[38;5;28;01mreturn\u001b[39;00m \u001b[43mDataFrameRenderer\u001b[49m\u001b[43m(\u001b[49m\u001b[43mformatter\u001b[49m\u001b[43m)\u001b[49m\u001b[38;5;241;43m.\u001b[39;49m\u001b[43mto_csv\u001b[49m\u001b[43m(\u001b[49m\n\u001b[0;32m   3773\u001b[0m \u001b[43m    \u001b[49m\u001b[43mpath_or_buf\u001b[49m\u001b[43m,\u001b[49m\n\u001b[0;32m   3774\u001b[0m \u001b[43m    \u001b[49m\u001b[43mlineterminator\u001b[49m\u001b[38;5;241;43m=\u001b[39;49m\u001b[43mlineterminator\u001b[49m\u001b[43m,\u001b[49m\n\u001b[0;32m   3775\u001b[0m \u001b[43m    \u001b[49m\u001b[43msep\u001b[49m\u001b[38;5;241;43m=\u001b[39;49m\u001b[43msep\u001b[49m\u001b[43m,\u001b[49m\n\u001b[0;32m   3776\u001b[0m \u001b[43m    \u001b[49m\u001b[43mencoding\u001b[49m\u001b[38;5;241;43m=\u001b[39;49m\u001b[43mencoding\u001b[49m\u001b[43m,\u001b[49m\n\u001b[0;32m   3777\u001b[0m \u001b[43m    \u001b[49m\u001b[43merrors\u001b[49m\u001b[38;5;241;43m=\u001b[39;49m\u001b[43merrors\u001b[49m\u001b[43m,\u001b[49m\n\u001b[0;32m   3778\u001b[0m \u001b[43m    \u001b[49m\u001b[43mcompression\u001b[49m\u001b[38;5;241;43m=\u001b[39;49m\u001b[43mcompression\u001b[49m\u001b[43m,\u001b[49m\n\u001b[0;32m   3779\u001b[0m \u001b[43m    \u001b[49m\u001b[43mquoting\u001b[49m\u001b[38;5;241;43m=\u001b[39;49m\u001b[43mquoting\u001b[49m\u001b[43m,\u001b[49m\n\u001b[0;32m   3780\u001b[0m \u001b[43m    \u001b[49m\u001b[43mcolumns\u001b[49m\u001b[38;5;241;43m=\u001b[39;49m\u001b[43mcolumns\u001b[49m\u001b[43m,\u001b[49m\n\u001b[0;32m   3781\u001b[0m \u001b[43m    \u001b[49m\u001b[43mindex_label\u001b[49m\u001b[38;5;241;43m=\u001b[39;49m\u001b[43mindex_label\u001b[49m\u001b[43m,\u001b[49m\n\u001b[0;32m   3782\u001b[0m \u001b[43m    \u001b[49m\u001b[43mmode\u001b[49m\u001b[38;5;241;43m=\u001b[39;49m\u001b[43mmode\u001b[49m\u001b[43m,\u001b[49m\n\u001b[0;32m   3783\u001b[0m \u001b[43m    \u001b[49m\u001b[43mchunksize\u001b[49m\u001b[38;5;241;43m=\u001b[39;49m\u001b[43mchunksize\u001b[49m\u001b[43m,\u001b[49m\n\u001b[0;32m   3784\u001b[0m \u001b[43m    \u001b[49m\u001b[43mquotechar\u001b[49m\u001b[38;5;241;43m=\u001b[39;49m\u001b[43mquotechar\u001b[49m\u001b[43m,\u001b[49m\n\u001b[0;32m   3785\u001b[0m \u001b[43m    \u001b[49m\u001b[43mdate_format\u001b[49m\u001b[38;5;241;43m=\u001b[39;49m\u001b[43mdate_format\u001b[49m\u001b[43m,\u001b[49m\n\u001b[0;32m   3786\u001b[0m \u001b[43m    \u001b[49m\u001b[43mdoublequote\u001b[49m\u001b[38;5;241;43m=\u001b[39;49m\u001b[43mdoublequote\u001b[49m\u001b[43m,\u001b[49m\n\u001b[0;32m   3787\u001b[0m \u001b[43m    \u001b[49m\u001b[43mescapechar\u001b[49m\u001b[38;5;241;43m=\u001b[39;49m\u001b[43mescapechar\u001b[49m\u001b[43m,\u001b[49m\n\u001b[0;32m   3788\u001b[0m \u001b[43m    \u001b[49m\u001b[43mstorage_options\u001b[49m\u001b[38;5;241;43m=\u001b[39;49m\u001b[43mstorage_options\u001b[49m\u001b[43m,\u001b[49m\n\u001b[0;32m   3789\u001b[0m \u001b[43m\u001b[49m\u001b[43m)\u001b[49m\n",
      "File \u001b[1;32mc:\\Users\\prisc\\anaconda3\\Lib\\site-packages\\pandas\\io\\formats\\format.py:1186\u001b[0m, in \u001b[0;36mDataFrameRenderer.to_csv\u001b[1;34m(self, path_or_buf, encoding, sep, columns, index_label, mode, compression, quoting, quotechar, lineterminator, chunksize, date_format, doublequote, escapechar, errors, storage_options)\u001b[0m\n\u001b[0;32m   1165\u001b[0m     created_buffer \u001b[38;5;241m=\u001b[39m \u001b[38;5;28;01mFalse\u001b[39;00m\n\u001b[0;32m   1167\u001b[0m csv_formatter \u001b[38;5;241m=\u001b[39m CSVFormatter(\n\u001b[0;32m   1168\u001b[0m     path_or_buf\u001b[38;5;241m=\u001b[39mpath_or_buf,\n\u001b[0;32m   1169\u001b[0m     lineterminator\u001b[38;5;241m=\u001b[39mlineterminator,\n\u001b[1;32m   (...)\u001b[0m\n\u001b[0;32m   1184\u001b[0m     formatter\u001b[38;5;241m=\u001b[39m\u001b[38;5;28mself\u001b[39m\u001b[38;5;241m.\u001b[39mfmt,\n\u001b[0;32m   1185\u001b[0m )\n\u001b[1;32m-> 1186\u001b[0m \u001b[43mcsv_formatter\u001b[49m\u001b[38;5;241;43m.\u001b[39;49m\u001b[43msave\u001b[49m\u001b[43m(\u001b[49m\u001b[43m)\u001b[49m\n\u001b[0;32m   1188\u001b[0m \u001b[38;5;28;01mif\u001b[39;00m created_buffer:\n\u001b[0;32m   1189\u001b[0m     \u001b[38;5;28;01massert\u001b[39;00m \u001b[38;5;28misinstance\u001b[39m(path_or_buf, StringIO)\n",
      "File \u001b[1;32mc:\\Users\\prisc\\anaconda3\\Lib\\site-packages\\pandas\\io\\formats\\csvs.py:240\u001b[0m, in \u001b[0;36mCSVFormatter.save\u001b[1;34m(self)\u001b[0m\n\u001b[0;32m    236\u001b[0m \u001b[38;5;250m\u001b[39m\u001b[38;5;124;03m\"\"\"\u001b[39;00m\n\u001b[0;32m    237\u001b[0m \u001b[38;5;124;03mCreate the writer & save.\u001b[39;00m\n\u001b[0;32m    238\u001b[0m \u001b[38;5;124;03m\"\"\"\u001b[39;00m\n\u001b[0;32m    239\u001b[0m \u001b[38;5;66;03m# apply compression and byte/text conversion\u001b[39;00m\n\u001b[1;32m--> 240\u001b[0m \u001b[38;5;28;01mwith\u001b[39;00m \u001b[43mget_handle\u001b[49m\u001b[43m(\u001b[49m\n\u001b[0;32m    241\u001b[0m \u001b[43m    \u001b[49m\u001b[38;5;28;43mself\u001b[39;49m\u001b[38;5;241;43m.\u001b[39;49m\u001b[43mfilepath_or_buffer\u001b[49m\u001b[43m,\u001b[49m\n\u001b[0;32m    242\u001b[0m \u001b[43m    \u001b[49m\u001b[38;5;28;43mself\u001b[39;49m\u001b[38;5;241;43m.\u001b[39;49m\u001b[43mmode\u001b[49m\u001b[43m,\u001b[49m\n\u001b[0;32m    243\u001b[0m \u001b[43m    \u001b[49m\u001b[43mencoding\u001b[49m\u001b[38;5;241;43m=\u001b[39;49m\u001b[38;5;28;43mself\u001b[39;49m\u001b[38;5;241;43m.\u001b[39;49m\u001b[43mencoding\u001b[49m\u001b[43m,\u001b[49m\n\u001b[0;32m    244\u001b[0m \u001b[43m    \u001b[49m\u001b[43merrors\u001b[49m\u001b[38;5;241;43m=\u001b[39;49m\u001b[38;5;28;43mself\u001b[39;49m\u001b[38;5;241;43m.\u001b[39;49m\u001b[43merrors\u001b[49m\u001b[43m,\u001b[49m\n\u001b[0;32m    245\u001b[0m \u001b[43m    \u001b[49m\u001b[43mcompression\u001b[49m\u001b[38;5;241;43m=\u001b[39;49m\u001b[38;5;28;43mself\u001b[39;49m\u001b[38;5;241;43m.\u001b[39;49m\u001b[43mcompression\u001b[49m\u001b[43m,\u001b[49m\n\u001b[0;32m    246\u001b[0m \u001b[43m    \u001b[49m\u001b[43mstorage_options\u001b[49m\u001b[38;5;241;43m=\u001b[39;49m\u001b[38;5;28;43mself\u001b[39;49m\u001b[38;5;241;43m.\u001b[39;49m\u001b[43mstorage_options\u001b[49m\u001b[43m,\u001b[49m\n\u001b[0;32m    247\u001b[0m \u001b[43m\u001b[49m\u001b[43m)\u001b[49m \u001b[38;5;28;01mas\u001b[39;00m handles:\n\u001b[0;32m    248\u001b[0m     \u001b[38;5;66;03m# Note: self.encoding is irrelevant here\u001b[39;00m\n\u001b[0;32m    249\u001b[0m     \u001b[38;5;28mself\u001b[39m\u001b[38;5;241m.\u001b[39mwriter \u001b[38;5;241m=\u001b[39m csvlib\u001b[38;5;241m.\u001b[39mwriter(\n\u001b[0;32m    250\u001b[0m         handles\u001b[38;5;241m.\u001b[39mhandle,\n\u001b[0;32m    251\u001b[0m         lineterminator\u001b[38;5;241m=\u001b[39m\u001b[38;5;28mself\u001b[39m\u001b[38;5;241m.\u001b[39mlineterminator,\n\u001b[1;32m   (...)\u001b[0m\n\u001b[0;32m    256\u001b[0m         quotechar\u001b[38;5;241m=\u001b[39m\u001b[38;5;28mself\u001b[39m\u001b[38;5;241m.\u001b[39mquotechar,\n\u001b[0;32m    257\u001b[0m     )\n\u001b[0;32m    259\u001b[0m     \u001b[38;5;28mself\u001b[39m\u001b[38;5;241m.\u001b[39m_save()\n",
      "File \u001b[1;32mc:\\Users\\prisc\\anaconda3\\Lib\\site-packages\\pandas\\io\\common.py:859\u001b[0m, in \u001b[0;36mget_handle\u001b[1;34m(path_or_buf, mode, encoding, compression, memory_map, is_text, errors, storage_options)\u001b[0m\n\u001b[0;32m    854\u001b[0m \u001b[38;5;28;01melif\u001b[39;00m \u001b[38;5;28misinstance\u001b[39m(handle, \u001b[38;5;28mstr\u001b[39m):\n\u001b[0;32m    855\u001b[0m     \u001b[38;5;66;03m# Check whether the filename is to be opened in binary mode.\u001b[39;00m\n\u001b[0;32m    856\u001b[0m     \u001b[38;5;66;03m# Binary mode does not support 'encoding' and 'newline'.\u001b[39;00m\n\u001b[0;32m    857\u001b[0m     \u001b[38;5;28;01mif\u001b[39;00m ioargs\u001b[38;5;241m.\u001b[39mencoding \u001b[38;5;129;01mand\u001b[39;00m \u001b[38;5;124m\"\u001b[39m\u001b[38;5;124mb\u001b[39m\u001b[38;5;124m\"\u001b[39m \u001b[38;5;129;01mnot\u001b[39;00m \u001b[38;5;129;01min\u001b[39;00m ioargs\u001b[38;5;241m.\u001b[39mmode:\n\u001b[0;32m    858\u001b[0m         \u001b[38;5;66;03m# Encoding\u001b[39;00m\n\u001b[1;32m--> 859\u001b[0m         handle \u001b[38;5;241m=\u001b[39m \u001b[38;5;28mopen\u001b[39m(\n\u001b[0;32m    860\u001b[0m             handle,\n\u001b[0;32m    861\u001b[0m             ioargs\u001b[38;5;241m.\u001b[39mmode,\n\u001b[0;32m    862\u001b[0m             encoding\u001b[38;5;241m=\u001b[39mioargs\u001b[38;5;241m.\u001b[39mencoding,\n\u001b[0;32m    863\u001b[0m             errors\u001b[38;5;241m=\u001b[39merrors,\n\u001b[0;32m    864\u001b[0m             newline\u001b[38;5;241m=\u001b[39m\u001b[38;5;124m\"\u001b[39m\u001b[38;5;124m\"\u001b[39m,\n\u001b[0;32m    865\u001b[0m         )\n\u001b[0;32m    866\u001b[0m     \u001b[38;5;28;01melse\u001b[39;00m:\n\u001b[0;32m    867\u001b[0m         \u001b[38;5;66;03m# Binary mode\u001b[39;00m\n\u001b[0;32m    868\u001b[0m         handle \u001b[38;5;241m=\u001b[39m \u001b[38;5;28mopen\u001b[39m(handle, ioargs\u001b[38;5;241m.\u001b[39mmode)\n",
      "\u001b[1;31mPermissionError\u001b[0m: [Errno 13] Permission denied: 'datos_modificados2.csv'"
     ]
    }
   ],
   "source": [
    "df2 = df_3.copy()  # Añade paréntesis para llamar al método copy\n",
    "mapeo_fusion = {\n",
    "    'Eucador': 'Ecuador',\n",
    "    'Niacragua': 'Nicaragua'\n",
    "}\n",
    "\n",
    "# Aplicar el mapeo a la columna 'Company location'\n",
    "df2['Company location'] = df2['Company location'].replace(mapeo_fusion)\n",
    "\n",
    "# Guardar el DataFrame corregido en un nuevo archivo CSV\n",
    "df2.to_csv('datos_modificados2.csv', index=False)\n",
    "\n"
   ]
  },
  {
   "cell_type": "code",
   "execution_count": null,
   "metadata": {},
   "outputs": [],
   "source": [
    "df_2=pd.read_csv('C:/Users/prisc/apps/chocolate-project1/docs/datos_modificados2.csv')"
   ]
  },
  {
   "cell_type": "code",
   "execution_count": null,
   "metadata": {},
   "outputs": [
    {
     "name": "stdout",
     "output_type": "stream",
     "text": [
      "La región de origen más común de las semillas de cacao es: Venezuela\n"
     ]
    }
   ],
   "source": [
    "frecuencia_region = df_2['Broad region of origin of bean'].value_counts()\n",
    "\n",
    "# Encontrar la región de origen más común\n",
    "region_mas_comun = frecuencia_region.idxmax()\n",
    "\n",
    "print(\"La región de origen más común de las semillas de cacao es:\", region_mas_comun)"
   ]
  },
  {
   "cell_type": "code",
   "execution_count": null,
   "metadata": {},
   "outputs": [
    {
     "data": {
      "text/plain": [
       "'Trinitario'"
      ]
     },
     "execution_count": 30,
     "metadata": {},
     "output_type": "execute_result"
    }
   ],
   "source": [
    "\n",
    "moda_bean = df_2['Bean type'].mode()[0]\n",
    "moda_bean"
   ]
  },
  {
   "cell_type": "code",
   "execution_count": null,
   "metadata": {},
   "outputs": [
    {
     "name": "stdout",
     "output_type": "stream",
     "text": [
      "La ubicación más común de las compañías productoras de chocolate es: U.S.A.\n"
     ]
    }
   ],
   "source": [
    "frecuencia_ubicacion = df_2['Company location'].value_counts()\n",
    "\n",
    "# Encontrar la ubicación más común\n",
    "ubicacion_mas_comun = frecuencia_ubicacion.idxmax()\n",
    "\n",
    "print(\"La ubicación más común de las compañías productoras de chocolate es:\", ubicacion_mas_comun)"
   ]
  },
  {
   "cell_type": "code",
   "execution_count": null,
   "metadata": {},
   "outputs": [
    {
     "name": "stdout",
     "output_type": "stream",
     "text": [
      "El porcentaje de cacao más popular es: 50%\n"
     ]
    }
   ],
   "source": [
    "calificacion_promedio = df_2.groupby('Cocoa %')['Rating'].mean()\n",
    "porcentaje_mas_popular = calificacion_promedio.idxmax()\n",
    "\n",
    "print(\"El porcentaje de cacao más popular es:\", porcentaje_mas_popular)"
   ]
  },
  {
   "cell_type": "code",
   "execution_count": null,
   "metadata": {},
   "outputs": [
    {
     "name": "stdout",
     "output_type": "stream",
     "text": [
      "Los tipos de semilla de cacao con los mayores puntajes son:\n",
      "Criollo (Ocumare 67)\n",
      "Criollo (Wild)\n"
     ]
    }
   ],
   "source": [
    "calificacion_promedio_por_tipo = df_2.groupby('Bean type')['Rating'].mean()\n",
    "max_rating = calificacion_promedio_por_tipo.max()\n",
    "tipos_mas_puntuados = calificacion_promedio_por_tipo[calificacion_promedio_por_tipo == max_rating].index.tolist()\n",
    "\n",
    "print(\"Los tipos de semilla de cacao con los mayores puntajes son:\")\n",
    "for tipo in tipos_mas_puntuados:\n",
    "    print(tipo)"
   ]
  },
  {
   "cell_type": "code",
   "execution_count": null,
   "metadata": {},
   "outputs": [
    {
     "name": "stdout",
     "output_type": "stream",
     "text": [
      "La mejor compañía de acuerdo con la calificación promedio es: Tobago Estate (Pralus) ,con un rating de: 4.0\n",
      "La ubicación de la compañía: France\n",
      "El origen del cacao de la compañía: Tobago ,específicamente de la región de: Roxborough, Tobago\n"
     ]
    }
   ],
   "source": [
    "calificacion_promedio_por_compania = df_2.groupby('Company')['Rating'].mean()\n",
    "mejor_compania = calificacion_promedio_por_compania.idxmax()\n",
    "calificacion_promedio_maxima = calificacion_promedio_por_compania.max()\n",
    "ubicacion_mejor_compania = df2.loc[df_2['Company'] == mejor_compania, 'Company location'].iloc[0]\n",
    "origen_cacao_mejor_compania = df2.loc[df_2['Company'] == mejor_compania, 'Broad region of origin of bean'].iloc[0]\n",
    "region_cacao_mejor_compania = df2.loc[df_2['Company'] == mejor_compania, 'Specific region of origin of bean'].iloc[0]\n",
    "\n",
    "print(\"La mejor compañía de acuerdo con la calificación promedio es:\", mejor_compania,',con un rating de:',calificacion_promedio_maxima)\n",
    "print(\"La ubicación de la compañía:\", ubicacion_mejor_compania)\n",
    "print(\"El origen del cacao de la compañía:\", origen_cacao_mejor_compania,',específicamente de la región de:',region_cacao_mejor_compania)"
   ]
  },
  {
   "cell_type": "code",
   "execution_count": null,
   "metadata": {},
   "outputs": [
    {
     "name": "stdout",
     "output_type": "stream",
     "text": [
      "El tipo de semilla de la compañía: Trinitario\n"
     ]
    }
   ],
   "source": [
    "\n",
    "semilla_mejor_compania = df_2.loc[df2['Company'] == mejor_compania, 'Bean type'].iloc[0]\n",
    "print(\"El tipo de semilla de la compañía:\", semilla_mejor_compania)"
   ]
  },
  {
   "cell_type": "code",
   "execution_count": null,
   "metadata": {},
   "outputs": [
    {
     "name": "stdout",
     "output_type": "stream",
     "text": [
      "La peor compañía de acuerdo con la calificación promedio es: Cote d' Or (Kraft) , con un rating de: 1.0\n",
      "La ubicación de la compañía: Belgium\n",
      "El origen del cacao de la compañía: Venezuela ,específicamente de la región de: Sensations Intense\n"
     ]
    }
   ],
   "source": [
    "calificacion_promedio_por_compania = df_2.groupby('Company')['Rating'].mean()\n",
    "peor_compania = calificacion_promedio_por_compania.idxmin()\n",
    "calificacion_promedio_minima = calificacion_promedio_por_compania.min()\n",
    "ubicacion_peor_compania = df_2.loc[df_2['Company'] == peor_compania, 'Company location'].iloc[0]\n",
    "origen_cacao_peor_compania = df_2.loc[df_2['Company'] == peor_compania, 'Broad region of origin of bean'].iloc[0]\n",
    "region_cacao_peor_compania = df_2.loc[df_2['Company'] == peor_compania, 'Specific region of origin of bean'].iloc[0]\n",
    "\n",
    "print(\"La peor compañía de acuerdo con la calificación promedio es:\", peor_compania, ', con un rating de:', calificacion_promedio_minima)\n",
    "print(\"La ubicación de la compañía:\", ubicacion_peor_compania)\n",
    "print(\"El origen del cacao de la compañía:\", origen_cacao_peor_compania, ',específicamente de la región de:', region_cacao_peor_compania)"
   ]
  },
  {
   "cell_type": "code",
   "execution_count": null,
   "metadata": {},
   "outputs": [
    {
     "name": "stdout",
     "output_type": "stream",
     "text": [
      "El tipo de semilla de la compañía: Trinitario\n"
     ]
    }
   ],
   "source": [
    "semilla_peor_compania = df_2.loc[df2['Company'] == peor_compania, 'Bean type'].iloc[0]\n",
    "print(\"El tipo de semilla de la compañía:\", semilla_peor_compania)"
   ]
  },
  {
   "cell_type": "code",
   "execution_count": null,
   "metadata": {},
   "outputs": [
    {
     "name": "stdout",
     "output_type": "stream",
     "text": [
      "La compañía que produce principalmente chocolate con más del 60% de cacao es: Soma\n"
     ]
    }
   ],
   "source": [
    "chocolate_alto_cacao = df_2[df_2['Cocoa %'] > '60']\n",
    "\n",
    "# Calcular la frecuencia de cada compañía en el subconjunto de datos filtrado\n",
    "frecuencia_compania = chocolate_alto_cacao['Company'].value_counts()\n",
    "\n",
    "# Encontrar la compañía más común\n",
    "compania_mas_comun = frecuencia_compania.idxmax()\n",
    "\n",
    "print(\"La compañía que produce principalmente chocolate con más del 60% de cacao es:\", compania_mas_comun)"
   ]
  },
  {
   "cell_type": "code",
   "execution_count": null,
   "metadata": {},
   "outputs": [
    {
     "name": "stdout",
     "output_type": "stream",
     "text": [
      "La última revisión realizada tiene el REF: 1952 ,hecha en el año: 2017\n",
      "Hecho hacia la compañía: Dick Taylor ,con un rating de: 3.75\n"
     ]
    }
   ],
   "source": [
    "indice_ultima_revision = df_2['REF'].idxmax()\n",
    "ref_ultima_revision = df_2.loc[indice_ultima_revision, 'REF']\n",
    "fecha_ultima_revision = df_2.loc[indice_ultima_revision, 'Review date']\n",
    "rating_ultima_revision = df_2.loc[indice_ultima_revision, 'Rating']\n",
    "compania_ultima_revision = df_2.loc[indice_ultima_revision, 'Company']\n",
    "\n",
    "print(\"La última revisión realizada tiene el REF:\", ref_ultima_revision,',hecha en el año:',fecha_ultima_revision)\n",
    "print(\"Hecho hacia la compañía:\", compania_ultima_revision,',con un rating de:',rating_ultima_revision)"
   ]
  },
  {
   "cell_type": "code",
   "execution_count": null,
   "metadata": {},
   "outputs": [
    {
     "name": "stdout",
     "output_type": "stream",
     "text": [
      "Número total de ubicaciones de compañías: 60\n"
     ]
    }
   ],
   "source": [
    "# Contar el número de ubicaciones únicas de compañías\n",
    "num_ubicaciones = df_2['Company location'].nunique()\n",
    "\n",
    "print(\"Número total de ubicaciones de compañías:\", num_ubicaciones)"
   ]
  },
  {
   "cell_type": "code",
   "execution_count": null,
   "metadata": {},
   "outputs": [
    {
     "name": "stdout",
     "output_type": "stream",
     "text": [
      "Número total de valores en la columna 'Company location': 1795\n"
     ]
    }
   ],
   "source": [
    "\n",
    "total_valores = df['Company location'].shape[0]\n",
    "\n",
    "print(\"Número total de valores en la columna 'Company location':\", total_valores)\n"
   ]
  },
  {
   "cell_type": "code",
   "execution_count": null,
   "metadata": {},
   "outputs": [
    {
     "name": "stdout",
     "output_type": "stream",
     "text": [
      "Porcentaje de compañías ubicadas en países de Latinoamérica: 7.7994428969359335\n"
     ]
    }
   ],
   "source": [
    "\n",
    "paises_latinoamerica = ['Argentina', 'Bolivia', 'Brasil', 'Chile', 'Colombia', 'Costa Rica', 'Cuba', 'Ecuador', 'El Salvador', 'Guatemala', 'Honduras', 'México', 'Nicaragua', 'Panamá', 'Paraguay', 'Perú', 'República Dominicana', 'Uruguay', 'Venezuela']\n",
    "\n",
    "# Filtrar el DataFrame para incluir solo las filas donde la ubicación de la compañía está en países de Latinoamérica\n",
    "latinoamerica_df = df[df['Company location'].isin(paises_latinoamerica)]\n",
    "\n",
    "# Contar el número de filas resultantes y el número total de compañías\n",
    "num_companias_latinoamerica = latinoamerica_df.shape[0]\n",
    "num_total_companias = df.shape[0]\n",
    "\n",
    "# Calcular el porcentaje de compañías ubicadas en países de Latinoamérica\n",
    "porcentaje_latam = (num_companias_latinoamerica / num_total_companias) * 100\n",
    "\n",
    "print(\"Porcentaje de compañías ubicadas en países de Latinoamérica:\", porcentaje_latam)\n"
   ]
  },
  {
   "cell_type": "code",
   "execution_count": null,
   "metadata": {},
   "outputs": [
    {
     "name": "stdout",
     "output_type": "stream",
     "text": [
      "Número de compañías ubicadas en países de Latinoamérica: 140\n"
     ]
    }
   ],
   "source": [
    "# Lista de países de Latinoamérica\n",
    "paises_latinoamerica = ['Argentina', 'Bolivia', 'Brasil', 'Chile', 'Colombia', 'Costa Rica', 'Cuba', 'Ecuador', 'El Salvador', 'Guatemala', 'Honduras', 'México', 'Nicaragua', 'Panamá', 'Paraguay', 'Perú', 'República Dominicana', 'Uruguay', 'Venezuela']\n",
    "\n",
    "# Filtrar el DataFrame para incluir solo las filas donde la ubicación de la compañía está en países de Latinoamérica\n",
    "latinoamerica_df = df_2[df_2['Company location'].isin(paises_latinoamerica)]\n",
    "\n",
    "# Contar el número de filas resultantes\n",
    "num_companias_latinoamerica = latinoamerica_df.shape[0]\n",
    "\n",
    "print(\"Número de compañías ubicadas en países de Latinoamérica:\", num_companias_latinoamerica)\n",
    "\n"
   ]
  },
  {
   "cell_type": "markdown",
   "metadata": {},
   "source": [
    "# Clasificador"
   ]
  },
  {
   "cell_type": "markdown",
   "metadata": {},
   "source": [
    "\n",
    "La función de este clasificador será predecir que tipo de semilla de cacao es a base de las demás columnas excepto la de 'Bean type'"
   ]
  },
  {
   "cell_type": "code",
   "execution_count": null,
   "metadata": {},
   "outputs": [
    {
     "name": "stdout",
     "output_type": "stream",
     "text": [
      "Precisión del modelo: 0.7994428969359332\n"
     ]
    }
   ],
   "source": [
    "import pandas as pd\n",
    "from sklearn.model_selection import train_test_split\n",
    "from sklearn.ensemble import RandomForestClassifier\n",
    "from sklearn.metrics import accuracy_score\n",
    "\n",
    "df_c = pd.read_csv('C:/Users/prisc/apps/chocolate-project1/docs/datos_modificados1.csv')\n",
    "\n",
    "df_c = pd.get_dummies(df_c, columns=['Company', 'Specific region of origin of bean', 'Company location', 'Broad region of origin of bean'])\n",
    "df_c['Cocoa %'] = df_c['Cocoa %'].str.rstrip('%').astype(float)\n",
    "\n",
    "X = df_c.drop('Bean type', axis=1)  \n",
    "y = df_c['Bean type'] \n",
    "\n",
    "X_train, X_test, y_train, y_test = train_test_split(X, y, test_size=0.2, random_state=42)\n",
    "clf = RandomForestClassifier()\n",
    "clf.fit(X_train, y_train)\n",
    "y_pred = clf.predict(X_test)\n",
    "\n",
    "accuracy = accuracy_score(y_test, y_pred)\n",
    "print(\"Precisión del modelo:\", accuracy)"
   ]
  },
  {
   "cell_type": "code",
   "execution_count": null,
   "metadata": {},
   "outputs": [],
   "source": []
  }
 ],
 "metadata": {
  "kernelspec": {
   "display_name": "base",
   "language": "python",
   "name": "python3"
  },
  "language_info": {
   "codemirror_mode": {
    "name": "ipython",
    "version": 3
   },
   "file_extension": ".py",
   "mimetype": "text/x-python",
   "name": "python",
   "nbconvert_exporter": "python",
   "pygments_lexer": "ipython3",
   "version": "3.11.5"
  }
 },
 "nbformat": 4,
 "nbformat_minor": 2
}
